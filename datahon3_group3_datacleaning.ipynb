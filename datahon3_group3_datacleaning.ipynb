{
 "cells": [
  {
   "cell_type": "markdown",
   "metadata": {},
   "source": [
    "### Datathon3- Group 3"
   ]
  },
  {
   "cell_type": "markdown",
   "metadata": {},
   "source": [
    "##### Import Libaries"
   ]
  },
  {
   "cell_type": "code",
   "execution_count": 1,
   "metadata": {},
   "outputs": [],
   "source": [
    "import pandas as pd\n",
    "import numpy as np\n",
    "import matplotlib.pyplot as plt\n",
    "import seaborn as sns"
   ]
  },
  {
   "cell_type": "markdown",
   "metadata": {},
   "source": [
    "##### Import file"
   ]
  },
  {
   "cell_type": "code",
   "execution_count": 2,
   "metadata": {},
   "outputs": [
    {
     "name": "stdout",
     "output_type": "stream",
     "text": [
      "       encounter_id  patient_id  hospital_id  hospital_death   age        bmi  \\\n",
      "0             66154       25312          118               0  68.0  22.730000   \n",
      "1            114252       59342           81               0  77.0  27.420000   \n",
      "2            119783       50777          118               0  25.0  31.950000   \n",
      "3             79267       46918          118               0  81.0  22.640000   \n",
      "4             92056       34377           33               0  19.0        NaN   \n",
      "...             ...         ...          ...             ...   ...        ...   \n",
      "91708         91592       78108           30               0  75.0  23.060250   \n",
      "91709         66119       13486          121               0  56.0  47.179671   \n",
      "91710          8981       58179          195               0  48.0  27.236914   \n",
      "91711         33776      120598           66               0   NaN  23.297481   \n",
      "91712          1671       53612          104               0  82.0  22.031250   \n",
      "\n",
      "       elective_surgery  ethnicity gender  height  ... aids cirrhosis  \\\n",
      "0                     0  Caucasian      M   180.3  ...  0.0       0.0   \n",
      "1                     0  Caucasian      F   160.0  ...  0.0       0.0   \n",
      "2                     0  Caucasian      F   172.7  ...  0.0       0.0   \n",
      "3                     1  Caucasian      F   165.1  ...  0.0       0.0   \n",
      "4                     0  Caucasian      M   188.0  ...  0.0       0.0   \n",
      "...                 ...        ...    ...     ...  ...  ...       ...   \n",
      "91708                 0  Caucasian      M   177.8  ...  0.0       0.0   \n",
      "91709                 0  Caucasian      F   183.0  ...  0.0       0.0   \n",
      "91710                 0  Caucasian      M   170.2  ...  0.0       0.0   \n",
      "91711                 0  Caucasian      F   154.9  ...  0.0       0.0   \n",
      "91712                 1  Caucasian      F   160.0  ...  0.0       0.0   \n",
      "\n",
      "       diabetes_mellitus hepatic_failure immunosuppression  leukemia  \\\n",
      "0                    1.0             0.0               0.0       0.0   \n",
      "1                    1.0             0.0               0.0       0.0   \n",
      "2                    0.0             0.0               0.0       0.0   \n",
      "3                    0.0             0.0               0.0       0.0   \n",
      "4                    0.0             0.0               0.0       0.0   \n",
      "...                  ...             ...               ...       ...   \n",
      "91708                1.0             0.0               0.0       0.0   \n",
      "91709                0.0             0.0               0.0       0.0   \n",
      "91710                1.0             0.0               0.0       0.0   \n",
      "91711                0.0             0.0               0.0       0.0   \n",
      "91712                0.0             0.0               0.0       0.0   \n",
      "\n",
      "       lymphoma  solid_tumor_with_metastasis  apache_3j_bodysystem  \\\n",
      "0           0.0                          0.0                Sepsis   \n",
      "1           0.0                          0.0           Respiratory   \n",
      "2           0.0                          0.0             Metabolic   \n",
      "3           0.0                          0.0        Cardiovascular   \n",
      "4           0.0                          0.0                Trauma   \n",
      "...         ...                          ...                   ...   \n",
      "91708       0.0                          1.0                Sepsis   \n",
      "91709       0.0                          0.0                Sepsis   \n",
      "91710       0.0                          0.0             Metabolic   \n",
      "91711       0.0                          0.0           Respiratory   \n",
      "91712       0.0                          0.0      Gastrointestinal   \n",
      "\n",
      "       apache_2_bodysystem  \n",
      "0           Cardiovascular  \n",
      "1              Respiratory  \n",
      "2                Metabolic  \n",
      "3           Cardiovascular  \n",
      "4                   Trauma  \n",
      "...                    ...  \n",
      "91708       Cardiovascular  \n",
      "91709       Cardiovascular  \n",
      "91710            Metabolic  \n",
      "91711          Respiratory  \n",
      "91712     Gastrointestinal  \n",
      "\n",
      "[91713 rows x 186 columns]\n"
     ]
    }
   ],
   "source": [
    "df = pd.read_csv('Datathon #3 Dataset - HAD7001.csv')\n",
    "print(df)"
   ]
  },
  {
   "cell_type": "code",
   "execution_count": 3,
   "metadata": {},
   "outputs": [
    {
     "name": "stdout",
     "output_type": "stream",
     "text": [
      "Empty DataFrame\n",
      "Columns: [encounter_id, patient_id, hospital_id, hospital_death, age, bmi, elective_surgery, ethnicity, gender, height, hospital_admit_source, icu_admit_source, icu_id, icu_stay_type, icu_type, pre_icu_los_days, readmission_status, weight, albumin_apache, apache_2_diagnosis, apache_3j_diagnosis, apache_post_operative, arf_apache, bilirubin_apache, bun_apache, creatinine_apache, fio2_apache, gcs_eyes_apache, gcs_motor_apache, gcs_unable_apache, gcs_verbal_apache, glucose_apache, heart_rate_apache, hematocrit_apache, intubated_apache, map_apache, paco2_apache, paco2_for_ph_apache, pao2_apache, ph_apache, resprate_apache, sodium_apache, temp_apache, urineoutput_apache, ventilated_apache, wbc_apache, d1_diasbp_invasive_max, d1_diasbp_invasive_min, d1_diasbp_max, d1_diasbp_min, d1_diasbp_noninvasive_max, d1_diasbp_noninvasive_min, d1_heartrate_max, d1_heartrate_min, d1_mbp_invasive_max, d1_mbp_invasive_min, d1_mbp_max, d1_mbp_min, d1_mbp_noninvasive_max, d1_mbp_noninvasive_min, d1_resprate_max, d1_resprate_min, d1_spo2_max, d1_spo2_min, d1_sysbp_invasive_max, d1_sysbp_invasive_min, d1_sysbp_max, d1_sysbp_min, d1_sysbp_noninvasive_max, d1_sysbp_noninvasive_min, d1_temp_max, d1_temp_min, h1_diasbp_invasive_max, h1_diasbp_invasive_min, h1_diasbp_max, h1_diasbp_min, h1_diasbp_noninvasive_max, h1_diasbp_noninvasive_min, h1_heartrate_max, h1_heartrate_min, h1_mbp_invasive_max, h1_mbp_invasive_min, h1_mbp_max, h1_mbp_min, h1_mbp_noninvasive_max, h1_mbp_noninvasive_min, h1_resprate_max, h1_resprate_min, h1_spo2_max, h1_spo2_min, h1_sysbp_invasive_max, h1_sysbp_invasive_min, h1_sysbp_max, h1_sysbp_min, h1_sysbp_noninvasive_max, h1_sysbp_noninvasive_min, h1_temp_max, h1_temp_min, d1_albumin_max, d1_albumin_min, ...]\n",
      "Index: []\n",
      "\n",
      "[0 rows x 186 columns]\n"
     ]
    }
   ],
   "source": [
    "#No duplicates\n",
    "duplicates = df[df.duplicated(subset=['patient_id'], keep=False)]\n",
    "print(duplicates)\n"
   ]
  },
  {
   "cell_type": "markdown",
   "metadata": {},
   "source": [
    "##### Data pre-processing"
   ]
  },
  {
   "cell_type": "code",
   "execution_count": 4,
   "metadata": {},
   "outputs": [
    {
     "name": "stdout",
     "output_type": "stream",
     "text": [
      "       patient_id  hospital_id  hospital_death   age        bmi  \\\n",
      "0           25312          118               0  68.0  22.730000   \n",
      "1           59342           81               0  77.0  27.420000   \n",
      "2           50777          118               0  25.0  31.950000   \n",
      "3           46918          118               0  81.0  22.640000   \n",
      "4           34377           33               0  19.0        NaN   \n",
      "...           ...          ...             ...   ...        ...   \n",
      "91708       78108           30               0  75.0  23.060250   \n",
      "91709       13486          121               0  56.0  47.179671   \n",
      "91710       58179          195               0  48.0  27.236914   \n",
      "91711      120598           66               0   NaN  23.297481   \n",
      "91712       53612          104               0  82.0  22.031250   \n",
      "\n",
      "       elective_surgery  ethnicity gender           icu_admit_source  \\\n",
      "0                     0  Caucasian      M                      Floor   \n",
      "1                     0  Caucasian      F                      Floor   \n",
      "2                     0  Caucasian      F       Accident & Emergency   \n",
      "3                     1  Caucasian      F  Operating Room / Recovery   \n",
      "4                     0  Caucasian      M       Accident & Emergency   \n",
      "...                 ...        ...    ...                        ...   \n",
      "91708                 0  Caucasian      M                      Floor   \n",
      "91709                 0  Caucasian      F                      Floor   \n",
      "91710                 0  Caucasian      M       Accident & Emergency   \n",
      "91711                 0  Caucasian      F       Accident & Emergency   \n",
      "91712                 1  Caucasian      F  Operating Room / Recovery   \n",
      "\n",
      "           icu_type  pre_icu_los_days  readmission_status  albumin_apache  \n",
      "0             CTICU          0.541667                   0             2.3  \n",
      "1      Med-Surg ICU          0.927778                   0             NaN  \n",
      "2      Med-Surg ICU          0.000694                   0             NaN  \n",
      "3             CTICU          0.000694                   0             NaN  \n",
      "4      Med-Surg ICU          0.073611                   0             NaN  \n",
      "...             ...               ...                 ...             ...  \n",
      "91708   Cardiac ICU          0.298611                   0             NaN  \n",
      "91709  Med-Surg ICU          0.120139                   0             NaN  \n",
      "91710  Med-Surg ICU          0.046528                   0             2.9  \n",
      "91711  Med-Surg ICU          0.081944                   0             NaN  \n",
      "91712  Med-Surg ICU          0.018056                   0             2.2  \n",
      "\n",
      "[91713 rows x 13 columns]\n"
     ]
    }
   ],
   "source": [
    "# drop all not demogrpahic vars [1:18], remove height and weight, hospital_admit_source, icu_admit_source, \n",
    "#icu_id, icu_stay_type\n",
    "df = df.iloc[:, 1:19]\n",
    "df = df.drop(columns=['height', 'weight', 'hospital_admit_source', 'icu_stay_type', 'icu_id', 'icu_stay_type'])\n",
    "print(df)"
   ]
  },
  {
   "cell_type": "markdown",
   "metadata": {},
   "source": [
    "##### Categorical data cleaning"
   ]
  },
  {
   "cell_type": "code",
   "execution_count": 5,
   "metadata": {},
   "outputs": [],
   "source": [
    "#ethnicity\n",
    "ethnicity_mapping = {\n",
    "    'Caucasian': 1,\n",
    "    'Hispanic': 2,\n",
    "    'Asian': 3,\n",
    "    'African American': 4,\n",
    "    'Native American': 5\n",
    "}\n",
    "df['ethnicity'] = df['ethnicity'].map(ethnicity_mapping)\n",
    "df['ethnicity'] = df['ethnicity'].fillna(6).astype(int)\n",
    "\n",
    "#gender\n",
    "df['gender'] = df['gender'].map({'M': 1, 'F': 2})\n",
    "df = df.dropna(subset=['gender'])\n",
    "df['gender'] = df['gender'].astype(int)\n",
    "\n",
    "#icu_admit_source\n",
    "icu_admit_mapping = {\n",
    "    'Floor': 1,\n",
    "    'Accident & Emergency': 2,\n",
    "    'Operating Room / Recovery': 3,\n",
    "    'Other Hospital': 4,\n",
    "    'Other ICU': 5\n",
    "}\n",
    "df['icu_admit_source'] = df['icu_admit_source'].map(icu_admit_mapping)\n",
    "df['icu_admit_source'] = df['icu_admit_source'].fillna(6).astype(int)\n",
    "\n",
    "#icu_type\n",
    "icu_type_mapping = {\n",
    "    'CTICU': 1,\n",
    "    'Med-Surg ICU': 2,\n",
    "    'CCU-CTICU': 3,\n",
    "    'Neuro ICU': 4,\n",
    "    'MICU': 5,\n",
    "    'SICU': 6\n",
    "}\n",
    "df['icu_type'] = df['icu_type'].map(icu_type_mapping)\n",
    "df['icu_type'] = df['icu_type'].fillna(6).astype(int)"
   ]
  },
  {
   "cell_type": "code",
   "execution_count": 6,
   "metadata": {},
   "outputs": [
    {
     "name": "stdout",
     "output_type": "stream",
     "text": [
      "                Count  Percentage\n",
      "hospital_death                   \n",
      "0               83781       91.38\n",
      "1                7907        8.62\n",
      "                  Count  Percentage\n",
      "elective_surgery                   \n",
      "0                 74837       81.62\n",
      "1                 16851       18.38\n",
      "           Count  Percentage\n",
      "ethnicity                   \n",
      "1          70682       77.09\n",
      "4           9545       10.41\n",
      "6           5749        6.27\n",
      "2           3795        4.14\n",
      "3           1129        1.23\n",
      "5            788        0.86\n",
      "        Count  Percentage\n",
      "gender                   \n",
      "1       49469       53.95\n",
      "2       42219       46.05\n",
      "                  Count  Percentage\n",
      "icu_admit_source                   \n",
      "2                 54035       58.93\n",
      "3                 18713       20.41\n",
      "1                 15611       17.03\n",
      "4                  2358        2.57\n",
      "5                   859        0.94\n",
      "6                   112        0.12\n",
      "          Count  Percentage\n",
      "icu_type                   \n",
      "2         50565       55.15\n",
      "6         14597       15.92\n",
      "5          7695        8.39\n",
      "4          7672        8.37\n",
      "3          7156        7.80\n",
      "1          4003        4.37\n",
      "                    Count  Percentage\n",
      "readmission_status                   \n",
      "0                   91688       100.0\n"
     ]
    }
   ],
   "source": [
    "#Categorical Data\n",
    "# check sparsity with tables, counts and percentages\n",
    "hospital_death_count = df['hospital_death'].value_counts()\n",
    "hospital_death_per = (df['hospital_death'].value_counts(normalize=True) * 100).round(2)\n",
    "hospital_death_table = pd.DataFrame({\n",
    "    'Count': hospital_death_count,\n",
    "    'Percentage': hospital_death_per\n",
    "})\n",
    "print(hospital_death_table)\n",
    "\n",
    "elective_surgery_count = df['elective_surgery'].value_counts()\n",
    "elective_surgery_per = (df['elective_surgery'].value_counts(normalize=True) * 100).round(2)\n",
    "elective_surgery_table = pd.DataFrame({\n",
    "    'Count': elective_surgery_count,\n",
    "    'Percentage': elective_surgery_per\n",
    "})\n",
    "print(elective_surgery_table)\n",
    "\n",
    "ethnicity_count = df['ethnicity'].value_counts()\n",
    "ethnicity_per = (df['ethnicity'].value_counts(normalize=True) * 100).round(2)\n",
    "ethnicity_table = pd.DataFrame({\n",
    "    'Count': ethnicity_count,\n",
    "    'Percentage': ethnicity_per\n",
    "})\n",
    "print(ethnicity_table)\n",
    "\n",
    "gender_count = df['gender'].value_counts()\n",
    "gender_per = (df['gender'].value_counts(normalize=True) * 100).round(2)\n",
    "gender_table = pd.DataFrame({\n",
    "    'Count': gender_count,\n",
    "    'Percentage': gender_per\n",
    "})\n",
    "print(gender_table)\n",
    "\n",
    "icu_admit_source_count = df['icu_admit_source'].value_counts()\n",
    "icu_admit_source_per = (df['icu_admit_source'].value_counts(normalize=True) * 100).round(2)\n",
    "icu_admit_source_table = pd.DataFrame({\n",
    "    'Count': icu_admit_source_count,\n",
    "    'Percentage': icu_admit_source_per\n",
    "})\n",
    "print(icu_admit_source_table)\n",
    "\n",
    "icu_type_count = df['icu_type'].value_counts()\n",
    "icu_type_per = (df['icu_type'].value_counts(normalize=True) * 100).round(2)\n",
    "icu_type_table = pd.DataFrame({\n",
    "    'Count': icu_type_count,\n",
    "    'Percentage': icu_type_per\n",
    "})\n",
    "print(icu_type_table)\n",
    "\n",
    "readmission_status_count = df['readmission_status'].value_counts()\n",
    "readmission_status_per = (df['readmission_status'].value_counts(normalize=True) * 100).round(2)\n",
    "readmission_status_table = pd.DataFrame({\n",
    "    'Count': readmission_status_count,\n",
    "    'Percentage': readmission_status_per\n",
    "})\n",
    "print(readmission_status_table)\n"
   ]
  },
  {
   "cell_type": "code",
   "execution_count": 7,
   "metadata": {},
   "outputs": [
    {
     "name": "stdout",
     "output_type": "stream",
     "text": [
      "       patient_id  hospital_id  hospital_death   age        bmi  \\\n",
      "0           25312          118               0  68.0  22.730000   \n",
      "1           59342           81               0  77.0  27.420000   \n",
      "2           50777          118               0  25.0  31.950000   \n",
      "3           46918          118               0  81.0  22.640000   \n",
      "4           34377           33               0  19.0        NaN   \n",
      "...           ...          ...             ...   ...        ...   \n",
      "91708       78108           30               0  75.0  23.060250   \n",
      "91709       13486          121               0  56.0  47.179671   \n",
      "91710       58179          195               0  48.0  27.236914   \n",
      "91711      120598           66               0   NaN  23.297481   \n",
      "91712       53612          104               0  82.0  22.031250   \n",
      "\n",
      "       elective_surgery  ethnicity  gender  icu_admit_source  icu_type  \\\n",
      "0                     0          1       1                 1         1   \n",
      "1                     0          1       2                 1         2   \n",
      "2                     0          1       2                 2         2   \n",
      "3                     1          1       2                 3         1   \n",
      "4                     0          1       1                 2         2   \n",
      "...                 ...        ...     ...               ...       ...   \n",
      "91708                 0          1       1                 1         6   \n",
      "91709                 0          1       2                 1         2   \n",
      "91710                 0          1       1                 2         2   \n",
      "91711                 0          1       2                 2         2   \n",
      "91712                 1          1       2                 3         2   \n",
      "\n",
      "       pre_icu_los_days  albumin_apache  \n",
      "0              0.541667             2.3  \n",
      "1              0.927778             NaN  \n",
      "2              0.000694             NaN  \n",
      "3              0.000694             NaN  \n",
      "4              0.073611             NaN  \n",
      "...                 ...             ...  \n",
      "91708          0.298611             NaN  \n",
      "91709          0.120139             NaN  \n",
      "91710          0.046528             2.9  \n",
      "91711          0.081944             NaN  \n",
      "91712          0.018056             2.2  \n",
      "\n",
      "[91688 rows x 12 columns]\n"
     ]
    }
   ],
   "source": [
    "#Drop readmission since there's no variability\n",
    "df = df.drop(columns=['readmission_status'])\n",
    "print(df)"
   ]
  },
  {
   "cell_type": "code",
   "execution_count": 8,
   "metadata": {},
   "outputs": [
    {
     "name": "stdout",
     "output_type": "stream",
     "text": [
      "\n",
      "Mean and Standard Deviation for Continuous Variables:\n",
      "        age    bmi  pre_icu_los_days\n",
      "mean  62.34  29.86              0.85\n",
      "std   16.75   8.31              2.52\n"
     ]
    },
    {
     "data": {
      "image/png": "[encoded data removed]",
      "text/plain": [
       "<Figure size 640x480 with 1 Axes>"
      ]
     },
     "metadata": {},
     "output_type": "display_data"
    },
    {
     "data": {
      "image/png": "[encoded data removed]",
      "text/plain": [
       "<Figure size 640x480 with 1 Axes>"
      ]
     },
     "metadata": {},
     "output_type": "display_data"
    },
    {
     "data": {
      "image/png": "[encoded data removed]",
      "text/plain": [
       "<Figure size 640x480 with 1 Axes>"
      ]
     },
     "metadata": {},
     "output_type": "display_data"
    }
   ],
   "source": [
    "#Continuous: \n",
    "#Change bmi to int and round\n",
    "df['bmi'] = df['bmi'].fillna(999)\n",
    "df['bmi'] = np.ceil(df['bmi']).astype(int)\n",
    "df = df[df['bmi'] != 999]\n",
    "\n",
    "#drop any patients that have age missing\n",
    "df = df.dropna(subset=['age'])\n",
    "\n",
    "# print means and SD, box plots\n",
    "continuous_vars = ['age', 'bmi', 'pre_icu_los_days']\n",
    "mean_sd = df[continuous_vars].agg(['mean', 'std']).round(2)\n",
    "\n",
    "print(\"\\nMean and Standard Deviation for Continuous Variables:\")\n",
    "print(mean_sd)\n",
    "\n",
    "sns.boxplot(x=df['age'])\n",
    "plt.show()\n",
    "\n",
    "sns.boxplot(x=df['bmi'])\n",
    "plt.show()\n",
    "\n",
    "sns.boxplot(x=df['pre_icu_los_days'])\n",
    "plt.show()"
   ]
  },
  {
   "cell_type": "code",
   "execution_count": 9,
   "metadata": {},
   "outputs": [
    {
     "name": "stdout",
     "output_type": "stream",
     "text": [
      "\n",
      "Mean and Standard Deviation for Continuous Variables:\n",
      "        age    bmi  pre_icu_los_days\n",
      "mean  61.99  28.99              0.16\n",
      "std   16.91   6.71              0.19\n"
     ]
    },
    {
     "data": {
      "image/png": "[encoded data removed]",
      "text/plain": [
       "<Figure size 640x480 with 1 Axes>"
      ]
     },
     "metadata": {},
     "output_type": "display_data"
    },
    {
     "data": {
      "image/png": "[encoded data removed]",
      "text/plain": [
       "<Figure size 640x480 with 1 Axes>"
      ]
     },
     "metadata": {},
     "output_type": "display_data"
    },
    {
     "data": {
      "image/png": "[encoded data removed]",
      "text/plain": [
       "<Figure size 640x480 with 1 Axes>"
      ]
     },
     "metadata": {},
     "output_type": "display_data"
    }
   ],
   "source": [
    "# Calculate the IQR for each variable and drop outliers\n",
    "for var in continuous_vars:\n",
    "    # Calculate Q1 (25th percentile) and Q3 (75th percentile)\n",
    "    Q1 = df[var].quantile(0.25)\n",
    "    Q3 = df[var].quantile(0.75)\n",
    "    \n",
    "    # Calculate the IQR\n",
    "    IQR = Q3 - Q1\n",
    "    \n",
    "    # Define the lower and upper bounds\n",
    "    lower_bound = Q1 - 1.5 * IQR\n",
    "    upper_bound = Q3 + 1.5 * IQR\n",
    "    \n",
    "    # Drop rows outside the IQR bounds\n",
    "    df = df[(df[var] >= lower_bound) & (df[var] <= upper_bound)]\n",
    "\n",
    "continuous_vars = ['age', 'bmi', 'pre_icu_los_days']\n",
    "mean_sd = df[continuous_vars].agg(['mean', 'std']).round(2)\n",
    "\n",
    "print(\"\\nMean and Standard Deviation for Continuous Variables:\")\n",
    "print(mean_sd)\n",
    "\n",
    "sns.boxplot(x=df['age'])\n",
    "plt.show()\n",
    "\n",
    "sns.boxplot(x=df['bmi'])\n",
    "plt.show()\n",
    "\n",
    "sns.boxplot(x=df['pre_icu_los_days'])\n",
    "plt.show()"
   ]
  },
  {
   "cell_type": "markdown",
   "metadata": {},
   "source": [
    "##### Check multicollinearity"
   ]
  },
  {
   "cell_type": "code",
   "execution_count": 10,
   "metadata": {},
   "outputs": [
    {
     "name": "stdout",
     "output_type": "stream",
     "text": [
      "                  patient_id  hospital_id  hospital_death       age       bmi  \\\n",
      "patient_id          1.000000    -0.006912        0.004877  0.000480 -0.002191   \n",
      "hospital_id        -0.006912     1.000000       -0.000646 -0.006384  0.018192   \n",
      "hospital_death      0.004877    -0.000646        1.000000  0.103652 -0.039390   \n",
      "age                 0.000480    -0.006384        0.103652  1.000000 -0.054181   \n",
      "bmi                -0.002191     0.018192       -0.039390 -0.054181  1.000000   \n",
      "elective_surgery    0.002493     0.061028       -0.080897  0.064718  0.036454   \n",
      "ethnicity          -0.002588    -0.040274       -0.007991 -0.135499 -0.005692   \n",
      "gender             -0.000161    -0.012634        0.001869  0.032300  0.024020   \n",
      "icu_admit_source    0.002221     0.007568       -0.025872  0.015082  0.025074   \n",
      "icu_type            0.006948     0.166490        0.010139  0.042359  0.004312   \n",
      "pre_icu_los_days   -0.006251     0.014331       -0.022599  0.041686  0.008229   \n",
      "albumin_apache      0.000451     0.011529       -0.190688 -0.116383  0.075850   \n",
      "\n",
      "                  elective_surgery  ethnicity    gender  icu_admit_source  \\\n",
      "patient_id                0.002493  -0.002588 -0.000161          0.002221   \n",
      "hospital_id               0.061028  -0.040274 -0.012634          0.007568   \n",
      "hospital_death           -0.080897  -0.007991  0.001869         -0.025872   \n",
      "age                       0.064718  -0.135499  0.032300          0.015082   \n",
      "bmi                       0.036454  -0.005692  0.024020          0.025074   \n",
      "elective_surgery          1.000000  -0.042392 -0.015975          0.508482   \n",
      "ethnicity                -0.042392   1.000000 -0.005305         -0.024953   \n",
      "gender                   -0.015975  -0.005305  1.000000         -0.020875   \n",
      "icu_admit_source          0.508482  -0.024953 -0.020875          1.000000   \n",
      "icu_type                  0.071461  -0.040142 -0.018989          0.078853   \n",
      "pre_icu_los_days          0.262232   0.037807  0.008056         -0.065196   \n",
      "albumin_apache            0.003861  -0.008482 -0.054561         -0.010072   \n",
      "\n",
      "                  icu_type  pre_icu_los_days  albumin_apache  \n",
      "patient_id        0.006948         -0.006251        0.000451  \n",
      "hospital_id       0.166490          0.014331        0.011529  \n",
      "hospital_death    0.010139         -0.022599       -0.190688  \n",
      "age               0.042359          0.041686       -0.116383  \n",
      "bmi               0.004312          0.008229        0.075850  \n",
      "elective_surgery  0.071461          0.262232        0.003861  \n",
      "ethnicity        -0.040142          0.037807       -0.008482  \n",
      "gender           -0.018989          0.008056       -0.054561  \n",
      "icu_admit_source  0.078853         -0.065196       -0.010072  \n",
      "icu_type          1.000000          0.016145        0.032162  \n",
      "pre_icu_los_days  0.016145          1.000000       -0.065993  \n",
      "albumin_apache    0.032162         -0.065993        1.000000  \n"
     ]
    }
   ],
   "source": [
    "correlation_matrix = df.corr()\n",
    "print(correlation_matrix)\n",
    "\n",
    "# sns.pairplot(\n",
    "#     df[['age', 'bmi','elective_surgery', 'ethnicity', 'gender', 'icu_admit_source', \"icu_type\", \"pre_icu_los_days\", 'hospital_death']], \n",
    "#     hue='hospital_death', \n",
    "#     palette=\"magma\"\n",
    "# )\n",
    "# plt.show()"
   ]
  },
  {
   "cell_type": "code",
   "execution_count": 11,
   "metadata": {},
   "outputs": [
    {
     "name": "stdout",
     "output_type": "stream",
     "text": [
      "       hospital_death   age  bmi  elective_surgery  ethnicity  gender  \\\n",
      "0                   0  68.0   23                 0          1       1   \n",
      "1                   0  77.0   28                 0          1       2   \n",
      "2                   0  25.0   32                 0          1       2   \n",
      "3                   0  81.0   23                 1          1       2   \n",
      "5                   0  67.0   28                 0          1       1   \n",
      "...               ...   ...  ...               ...        ...     ...   \n",
      "91706               0  54.0   20                 0          5       1   \n",
      "91708               0  75.0   24                 0          1       1   \n",
      "91709               0  56.0   48                 0          1       2   \n",
      "91710               0  48.0   28                 0          1       1   \n",
      "91712               0  82.0   23                 1          1       2   \n",
      "\n",
      "       icu_admit_source  icu_type  pre_icu_los_days  \n",
      "0                     1         1          0.541667  \n",
      "1                     1         2          0.927778  \n",
      "2                     2         2          0.000694  \n",
      "3                     3         1          0.000694  \n",
      "5                     2         2          0.000694  \n",
      "...                 ...       ...               ...  \n",
      "91706                 2         2          0.025694  \n",
      "91708                 1         6          0.298611  \n",
      "91709                 1         2          0.120139  \n",
      "91710                 2         2          0.046528  \n",
      "91712                 3         2          0.018056  \n",
      "\n",
      "[67767 rows x 9 columns]\n"
     ]
    }
   ],
   "source": [
    "df = df.drop(['albumin_apache', 'hospital_id', 'patient_id'], axis=1)\n",
    "print(df)"
   ]
  },
  {
   "cell_type": "code",
   "execution_count": null,
   "metadata": {},
   "outputs": [],
   "source": [
    "#Export final dataset\n",
    "df.to_csv('final_df_datathon3.csv', index=False)"
   ]
  }
 ],
 "metadata": {
  "kernelspec": {
   "display_name": "base",
   "language": "python",
   "name": "python3"
  },
  "language_info": {
   "codemirror_mode": {
    "name": "ipython",
    "version": 3
   },
   "file_extension": ".py",
   "mimetype": "text/x-python",
   "name": "python",
   "nbconvert_exporter": "python",
   "pygments_lexer": "ipython3",
   "version": "3.11.5"
  }
 },
 "nbformat": 4,
 "nbformat_minor": 2
}
